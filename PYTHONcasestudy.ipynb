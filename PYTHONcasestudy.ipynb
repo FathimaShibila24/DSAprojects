{
  "nbformat": 4,
  "nbformat_minor": 0,
  "metadata": {
    "colab": {
      "provenance": []
    },
    "kernelspec": {
      "name": "python3",
      "display_name": "Python 3"
    },
    "language_info": {
      "name": "python"
    }
  },
  "cells": [
    {
      "cell_type": "code",
      "source": [
        "#grocery bill calculator\n",
        "def calculate_total_bill():\n",
        "    prices = {\n",
        "        'apple': 10,\n",
        "        'banana': 15,\n",
        "        'milk': 50,\n",
        "        'bread': 20,\n",
        "        'cheese': 100 }\n",
        "\n",
        "    total_bill = 0\n",
        "    while True:\n",
        "        item = input(\"Enter the item you want to purchase (or 'done' to finish): \").lower()\n",
        "\n",
        "        if item == 'done':\n",
        "            break\n",
        "        if item in prices:\n",
        "            quantity = int(input(f\"Enter the quantity of {item}: \"))\n",
        "            total_bill += prices[item] * quantity\n",
        "        else:\n",
        "            print(f\"Sorry, we do not have {item} in the store.\")\n",
        "\n",
        "    print(f\"\\nTotal bill amount: ${total_bill}\")\n",
        "\n",
        "calculate_total_bill()\n",
        "print(\"Tankyou For Your Visit\")"
      ],
      "metadata": {
        "id": "lJL0tvnlDio5",
        "colab": {
          "base_uri": "https://localhost:8080/"
        },
        "outputId": "fcaff6d0-0716-499c-cd07-4af320018725"
      },
      "execution_count": null,
      "outputs": [
        {
          "output_type": "stream",
          "name": "stdout",
          "text": [
            "Enter the item you want to purchase (or 'done' to finish): egg\n",
            "Sorry, we do not have egg in the store.\n",
            "Enter the item you want to purchase (or 'done' to finish): milk\n",
            "Enter the quantity of milk: 1\n",
            "Enter the item you want to purchase (or 'done' to finish): done\n",
            "\n",
            "Total bill amount: $50\n",
            "Tankyou For Your Visit\n"
          ]
        }
      ]
    },
    {
      "cell_type": "code",
      "source": [
        "# Student Grade calculator\n",
        "def calculate_grade(average):\n",
        "    if average >= 90:\n",
        "        return 'A'\n",
        "    elif 70 <= average < 89:\n",
        "        return 'B'\n",
        "    elif 50 <= average < 69:\n",
        "        return 'C'\n",
        "    else:\n",
        "        return 'F'\n",
        "\n",
        "marks = []\n",
        "for i in range(5):\n",
        "    mark = float(input(f\"Enter mark for subject {i+1}: \"))\n",
        "    marks.append(mark)\n",
        "\n",
        "average = sum(marks) / len(marks)\n",
        "\n",
        "grade = calculate_grade(average)\n",
        "\n",
        "print(f\"Marks: {marks}\")\n",
        "print(f\"Average: {average:.2f}\")\n",
        "print(f\"Grade: {grade}\")\n"
      ],
      "metadata": {
        "id": "E_bfEolJZ8Jj",
        "colab": {
          "base_uri": "https://localhost:8080/"
        },
        "outputId": "b70cb4e1-eec2-4606-b061-40dc900bc9b8"
      },
      "execution_count": null,
      "outputs": [
        {
          "output_type": "stream",
          "name": "stdout",
          "text": [
            "Enter mark for subject 1: 90\n",
            "Enter mark for subject 2: 76\n",
            "Enter mark for subject 3: 88\n",
            "Enter mark for subject 4: 95\n",
            "Enter mark for subject 5: 50\n",
            "Marks: [90.0, 76.0, 88.0, 95.0, 50.0]\n",
            "Average: 79.80\n",
            "Grade: B\n"
          ]
        }
      ]
    },
    {
      "cell_type": "code",
      "source": [
        "# Theater seat booking\n",
        "available_seats = [1, 2, 3, 4, 5, 6, 7, 8, 9, 10, 11, 12, 13, 14, 15, 16, 17, 18, 19, 20]\n",
        "\n",
        "def display_available_seats():\n",
        "    print(\"Available seats:\", available_seats)\n",
        "\n",
        "\n",
        "def book_seat(seat_number):\n",
        "    if seat_number in available_seats:\n",
        "        available_seats.remove(seat_number)\n",
        "        print(f\"Seat {seat_number} has been booked.\")\n",
        "    else:\n",
        "        print(f\"Sorry, seat {seat_number} is not available.\")\n",
        "\n",
        "\n",
        "def seat_booking_system():\n",
        "    while True:\n",
        "        display_available_seats()\n",
        "        try:\n",
        "            seat_number = int(input(\"Enter the seat number you want to book (or type 0 to exit): \"))\n",
        "\n",
        "            if seat_number == 0:\n",
        "                print(\"Exiting the booking system.\")\n",
        "                break\n",
        "            book_seat(seat_number)\n",
        "        except ValueError:\n",
        "            print(\"Please enter a valid seat number.\")\n",
        "\n",
        "\n",
        "seat_booking_system()\n"
      ],
      "metadata": {
        "id": "tZP7LBodsUCa",
        "colab": {
          "base_uri": "https://localhost:8080/"
        },
        "outputId": "fd106c1a-36e1-4e76-fac7-489b92d2dfd1"
      },
      "execution_count": 2,
      "outputs": [
        {
          "output_type": "stream",
          "name": "stdout",
          "text": [
            "Available seats: [1, 2, 3, 4, 5, 6, 7, 8, 9, 10, 11, 12, 13, 14, 15, 16, 17, 18, 19, 20]\n",
            "Enter the seat number you want to book (or type 0 to exit): 3\n",
            "Seat 3 has been booked.\n",
            "Available seats: [1, 2, 4, 5, 6, 7, 8, 9, 10, 11, 12, 13, 14, 15, 16, 17, 18, 19, 20]\n",
            "Enter the seat number you want to book (or type 0 to exit): 0\n",
            "Exiting the booking system.\n"
          ]
        }
      ]
    }
  ]
}